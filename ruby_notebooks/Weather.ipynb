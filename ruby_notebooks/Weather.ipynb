{
 "cells": [
  {
   "cell_type": "code",
   "execution_count": 1,
   "metadata": {
    "collapsed": false
   },
   "outputs": [
    {
     "data": {
      "text/plain": [
       "true"
      ]
     },
     "execution_count": 1,
     "metadata": {},
     "output_type": "execute_result"
    }
   ],
   "source": [
    "require 'json'\n",
    "require 'httparty'"
   ]
  },
  {
   "cell_type": "code",
   "execution_count": 2,
   "metadata": {
    "collapsed": false
   },
   "outputs": [
    {
     "data": {
      "text/plain": [
       "\"The Current Temperature in San Francisco, CA is 66.3 degrees F\""
      ]
     },
     "execution_count": 2,
     "metadata": {},
     "output_type": "execute_result"
    }
   ],
   "source": [
    "file = File.read('./wu.json')\n",
    "data = JSON.parse(file)\n",
    "\n",
    "\n",
    "\"The Current Temperature in #{data[\"current_observation\"][\"display_location\"][\"full\"]} is #{data[\"current_observation\"][\"temp_f\"]} degrees F\""
   ]
  },
  {
   "cell_type": "code",
   "execution_count": 3,
   "metadata": {
    "collapsed": false
   },
   "outputs": [
    {
     "ename": "Errno::ENOENT",
     "evalue": "No such file or directory @ rb_sysopen - kernel",
     "output_type": "error",
     "traceback": [
      "\u001b[31mErrno::ENOENT\u001b[0m: No such file or directory @ rb_sysopen - kernel",
      "\u001b[37m<main>:2:in `gets'\u001b[0m",
      "\u001b[37m<main>:2:in `gets'\u001b[0m",
      "\u001b[37m<main>:2:in `<main>'\u001b[0m",
      "\u001b[37m/home/danai/.rvm/gems/ruby-2.3.0/gems/iruby-0.2.9/lib/iruby/backend.rb:44:in `eval'\u001b[0m",
      "\u001b[37m/home/danai/.rvm/gems/ruby-2.3.0/gems/iruby-0.2.9/lib/iruby/backend.rb:44:in `eval'\u001b[0m",
      "\u001b[37m/home/danai/.rvm/gems/ruby-2.3.0/gems/iruby-0.2.9/lib/iruby/backend.rb:12:in `eval'\u001b[0m",
      "\u001b[37m/home/danai/.rvm/gems/ruby-2.3.0/gems/iruby-0.2.9/lib/iruby/kernel.rb:87:in `execute_request'\u001b[0m",
      "\u001b[37m/home/danai/.rvm/gems/ruby-2.3.0/gems/iruby-0.2.9/lib/iruby/kernel.rb:47:in `dispatch'\u001b[0m",
      "\u001b[37m/home/danai/.rvm/gems/ruby-2.3.0/gems/iruby-0.2.9/lib/iruby/kernel.rb:37:in `run'\u001b[0m",
      "\u001b[37m/home/danai/.rvm/gems/ruby-2.3.0/gems/iruby-0.2.9/lib/iruby/command.rb:70:in `run_kernel'\u001b[0m",
      "\u001b[37m/home/danai/.rvm/gems/ruby-2.3.0/gems/iruby-0.2.9/lib/iruby/command.rb:34:in `run'\u001b[0m",
      "\u001b[37m/home/danai/.rvm/gems/ruby-2.3.0/gems/iruby-0.2.9/bin/iruby:5:in `<top (required)>'\u001b[0m",
      "\u001b[37m/home/danai/.rvm/gems/ruby-2.3.0/bin/iruby:23:in `load'\u001b[0m",
      "\u001b[37m/home/danai/.rvm/gems/ruby-2.3.0/bin/iruby:23:in `<main>'\u001b[0m",
      "\u001b[37m/home/danai/.rvm/gems/ruby-2.3.0/bin/ruby_executable_hooks:15:in `eval'\u001b[0m",
      "\u001b[37m/home/danai/.rvm/gems/ruby-2.3.0/bin/ruby_executable_hooks:15:in `<main>'\u001b[0m"
     ]
    }
   ],
   "source": [
    "user_input = gets.chomp\n",
    "\n",
    "data = HTTParty.get('http://api.wunderground.com/api/#{ENV[\"WU_KEY\"]}/conditions/q/80123.json')\n",
    "\n",
    "\n",
    "\"The Current Temperature in #{data[\"current_observation\"][\"display_location\"][\"full\"]} is #{data[\"current_observation\"][\"temp_f\"]} degrees F\""
   ]
  },
  {
   "cell_type": "code",
   "execution_count": 25,
   "metadata": {
    "collapsed": false
   },
   "outputs": [
    {
     "data": {
      "text/plain": [
       "\"#<HTTParty::Response:0x2f71bb8 parsed_response={\\\"response\\\"=>{\\\"version\\\"=>\\\"0.1\\\", \\\"termsofService\\\"=>\\\"http://www.wunderground.com/weather/api/d/terms.html\\\", \\\"features\\\"=>{\\\"astronomy\\\"=>1}}, \\\"moon_phase\\\"=>{\\\"percentIlluminated\\\"=>\\\"57\\\", \\\"ageOfMoon\\\"=>\\\"8\\\", \\\"phaseofMoon\\\"=>\\\"First Quarter\\\", \\\"hemisphere\\\"=>\\\"North\\\", \\\"current_time\\\"=>{\\\"hour\\\"=>\\\"11\\\", \\\"minute\\\"=>\\\"45\\\"}, \\\"sunrise\\\"=>{\\\"hour\\\"=>\\\"5\\\", \\\"minute\\\"=>\\\"36\\\"}, \\\"sunset\\\"=>{\\\"hour\\\"=>\\\"20\\\", \\\"minute\\\"=>\\\"32\\\"}, \\\"moonrise\\\"=>{\\\"hour\\\"=>\\\"13\\\", \\\"minute\\\"=>\\\"58\\\"}, \\\"moonset\\\"=>{\\\"hour\\\"=>\\\"0\\\", \\\"minute\\\"=>\\\"45\\\"}}, \\\"sun_phase\\\"=>{\\\"sunrise\\\"=>{\\\"hour\\\"=>\\\"5\\\", \\\"minute\\\"=>\\\"36\\\"}, \\\"sunset\\\"=>{\\\"hour\\\"=>\\\"20\\\", \\\"minute\\\"=>\\\"32\\\"}}}, @response=#<Net::HTTPOK 200 OK readbody=true>, @headers={\\\"server\\\"=>[\\\"Apache/2.2.15 (CentOS)\\\"], \\\"access-control-allow-origin\\\"=>[\\\"*\\\"], \\\"access-control-allow-credentials\\\"=>[\\\"true\\\"], \\\"x-creationtime\\\"=>[\\\"0.025\\\"], \\\"last-modified\\\"=>[\\\"Tue, 12 Jul 2016 17:45:30 GMT\\\"], \\\"content-type\\\"=>[\\\"application/json; charset=UTF-8\\\"], \\\"vary\\\"=>[\\\"Accept-Encoding\\\"], \\\"expires\\\"=>[\\\"Tue, 12 Jul 2016 17:46:17 GMT\\\"], \\\"cache-control\\\"=>[\\\"max-age=0, no-cache\\\"], \\\"pragma\\\"=>[\\\"no-cache\\\"], \\\"date\\\"=>[\\\"Tue, 12 Jul 2016 17:46:17 GMT\\\"], \\\"content-length\\\"=>[\\\"659\\\"], \\\"connection\\\"=>[\\\"close\\\"]}>\""
      ]
     },
     "execution_count": 25,
     "metadata": {},
     "output_type": "execute_result"
    }
   ],
   "source": [
    "data = HTTParty.get('http://api.wunderground.com/api/5bcdcb93c4958212/astronomy/q/82009.json')\n",
    "\n",
    "data.inspect"
   ]
  },
  {
   "cell_type": "code",
   "execution_count": null,
   "metadata": {
    "collapsed": true
   },
   "outputs": [],
   "source": []
  }
 ],
 "metadata": {
  "kernelspec": {
   "display_name": "Ruby 2.3.0",
   "language": "ruby",
   "name": "ruby"
  },
  "language_info": {
   "file_extension": ".rb",
   "mimetype": "application/x-ruby",
   "name": "ruby",
   "version": "2.3.0"
  }
 },
 "nbformat": 4,
 "nbformat_minor": 0
}
